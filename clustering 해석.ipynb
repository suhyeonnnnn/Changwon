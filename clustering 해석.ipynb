{
 "cells": [
  {
   "cell_type": "markdown",
   "id": "ff11971e",
   "metadata": {},
   "source": [
    "# 클러스터별로 어떤 특성을 가지고 있는지 해석"
   ]
  },
  {
   "cell_type": "markdown",
   "id": "2045d637",
   "metadata": {},
   "source": [
    "### 상위 10% 신호등 cluster\n",
    "- cluster 3개로 분류되어 있음"
   ]
  },
  {
   "cell_type": "code",
   "execution_count": 1,
   "id": "d50f7d71",
   "metadata": {},
   "outputs": [],
   "source": [
    "#라이브러리 로드\n",
    "import pandas as pd\n",
    "import numpy as np\n",
    "import seaborn as sns\n",
    "from tqdm import tqdm\n",
    "import matplotlib.pyplot as plt\n",
    "%matplotlib inline\n",
    "\n",
    "import warnings\n",
    "warnings.filterwarnings(\"ignore\", category=RuntimeWarning)"
   ]
  },
  {
   "cell_type": "code",
   "execution_count": 2,
   "id": "07cdee7c",
   "metadata": {
    "scrolled": true
   },
   "outputs": [
    {
     "data": {
      "text/html": [
       "<div>\n",
       "<style scoped>\n",
       "    .dataframe tbody tr th:only-of-type {\n",
       "        vertical-align: middle;\n",
       "    }\n",
       "\n",
       "    .dataframe tbody tr th {\n",
       "        vertical-align: top;\n",
       "    }\n",
       "\n",
       "    .dataframe thead th {\n",
       "        text-align: right;\n",
       "    }\n",
       "</style>\n",
       "<table border=\"1\" class=\"dataframe\">\n",
       "  <thead>\n",
       "    <tr style=\"text-align: right;\">\n",
       "      <th></th>\n",
       "      <th>id</th>\n",
       "      <th>fid</th>\n",
       "      <th>left</th>\n",
       "      <th>top</th>\n",
       "      <th>right</th>\n",
       "      <th>bottom</th>\n",
       "      <th>light_origin</th>\n",
       "      <th>aca200</th>\n",
       "      <th>aca400</th>\n",
       "      <th>ele200</th>\n",
       "      <th>...</th>\n",
       "      <th>dead</th>\n",
       "      <th>aca</th>\n",
       "      <th>kin</th>\n",
       "      <th>ele</th>\n",
       "      <th>total</th>\n",
       "      <th>num_10</th>\n",
       "      <th>num_total</th>\n",
       "      <th>num_10_percent</th>\n",
       "      <th>num_total_percent</th>\n",
       "      <th>cluster_0.1</th>\n",
       "    </tr>\n",
       "  </thead>\n",
       "  <tbody>\n",
       "    <tr>\n",
       "      <th>0</th>\n",
       "      <td>8275</td>\n",
       "      <td>6284</td>\n",
       "      <td>341928.5552</td>\n",
       "      <td>187429.2726</td>\n",
       "      <td>342228.5552</td>\n",
       "      <td>187129.2726</td>\n",
       "      <td>1</td>\n",
       "      <td>2</td>\n",
       "      <td>1</td>\n",
       "      <td>2</td>\n",
       "      <td>...</td>\n",
       "      <td>1</td>\n",
       "      <td>1</td>\n",
       "      <td>1</td>\n",
       "      <td>1</td>\n",
       "      <td>0.9958</td>\n",
       "      <td>79</td>\n",
       "      <td>650</td>\n",
       "      <td>0.99</td>\n",
       "      <td>0.97</td>\n",
       "      <td>1</td>\n",
       "    </tr>\n",
       "    <tr>\n",
       "      <th>1</th>\n",
       "      <td>8389</td>\n",
       "      <td>6347</td>\n",
       "      <td>342228.5552</td>\n",
       "      <td>191629.2726</td>\n",
       "      <td>342528.5552</td>\n",
       "      <td>191329.2726</td>\n",
       "      <td>1</td>\n",
       "      <td>2</td>\n",
       "      <td>1</td>\n",
       "      <td>2</td>\n",
       "      <td>...</td>\n",
       "      <td>1</td>\n",
       "      <td>1</td>\n",
       "      <td>1</td>\n",
       "      <td>1</td>\n",
       "      <td>0.9924</td>\n",
       "      <td>55</td>\n",
       "      <td>457</td>\n",
       "      <td>0.97</td>\n",
       "      <td>0.96</td>\n",
       "      <td>1</td>\n",
       "    </tr>\n",
       "    <tr>\n",
       "      <th>2</th>\n",
       "      <td>8390</td>\n",
       "      <td>6350</td>\n",
       "      <td>342228.5552</td>\n",
       "      <td>191329.2726</td>\n",
       "      <td>342528.5552</td>\n",
       "      <td>191029.2726</td>\n",
       "      <td>1</td>\n",
       "      <td>2</td>\n",
       "      <td>1</td>\n",
       "      <td>2</td>\n",
       "      <td>...</td>\n",
       "      <td>1</td>\n",
       "      <td>1</td>\n",
       "      <td>1</td>\n",
       "      <td>1</td>\n",
       "      <td>0.9924</td>\n",
       "      <td>55</td>\n",
       "      <td>457</td>\n",
       "      <td>0.97</td>\n",
       "      <td>0.96</td>\n",
       "      <td>1</td>\n",
       "    </tr>\n",
       "    <tr>\n",
       "      <th>3</th>\n",
       "      <td>8395</td>\n",
       "      <td>6345</td>\n",
       "      <td>342228.5552</td>\n",
       "      <td>189829.2726</td>\n",
       "      <td>342528.5552</td>\n",
       "      <td>189529.2726</td>\n",
       "      <td>1</td>\n",
       "      <td>2</td>\n",
       "      <td>1</td>\n",
       "      <td>2</td>\n",
       "      <td>...</td>\n",
       "      <td>1</td>\n",
       "      <td>1</td>\n",
       "      <td>1</td>\n",
       "      <td>1</td>\n",
       "      <td>0.9946</td>\n",
       "      <td>59</td>\n",
       "      <td>678</td>\n",
       "      <td>0.98</td>\n",
       "      <td>0.97</td>\n",
       "      <td>1</td>\n",
       "    </tr>\n",
       "    <tr>\n",
       "      <th>4</th>\n",
       "      <td>8396</td>\n",
       "      <td>6340</td>\n",
       "      <td>342228.5552</td>\n",
       "      <td>189529.2726</td>\n",
       "      <td>342528.5552</td>\n",
       "      <td>189229.2726</td>\n",
       "      <td>1</td>\n",
       "      <td>2</td>\n",
       "      <td>1</td>\n",
       "      <td>2</td>\n",
       "      <td>...</td>\n",
       "      <td>1</td>\n",
       "      <td>1</td>\n",
       "      <td>1</td>\n",
       "      <td>1</td>\n",
       "      <td>0.9946</td>\n",
       "      <td>59</td>\n",
       "      <td>678</td>\n",
       "      <td>0.98</td>\n",
       "      <td>0.97</td>\n",
       "      <td>1</td>\n",
       "    </tr>\n",
       "  </tbody>\n",
       "</table>\n",
       "<p>5 rows × 28 columns</p>\n",
       "</div>"
      ],
      "text/plain": [
       "     id   fid         left          top        right       bottom  \\\n",
       "0  8275  6284  341928.5552  187429.2726  342228.5552  187129.2726   \n",
       "1  8389  6347  342228.5552  191629.2726  342528.5552  191329.2726   \n",
       "2  8390  6350  342228.5552  191329.2726  342528.5552  191029.2726   \n",
       "3  8395  6345  342228.5552  189829.2726  342528.5552  189529.2726   \n",
       "4  8396  6340  342228.5552  189529.2726  342528.5552  189229.2726   \n",
       "\n",
       "   light_origin  aca200  aca400  ele200  ...  dead  aca  kin  ele   total  \\\n",
       "0             1       2       1       2  ...     1    1    1    1  0.9958   \n",
       "1             1       2       1       2  ...     1    1    1    1  0.9924   \n",
       "2             1       2       1       2  ...     1    1    1    1  0.9924   \n",
       "3             1       2       1       2  ...     1    1    1    1  0.9946   \n",
       "4             1       2       1       2  ...     1    1    1    1  0.9946   \n",
       "\n",
       "   num_10  num_total  num_10_percent  num_total_percent  cluster_0.1  \n",
       "0      79        650            0.99               0.97            1  \n",
       "1      55        457            0.97               0.96            1  \n",
       "2      55        457            0.97               0.96            1  \n",
       "3      59        678            0.98               0.97            1  \n",
       "4      59        678            0.98               0.97            1  \n",
       "\n",
       "[5 rows x 28 columns]"
      ]
     },
     "execution_count": 2,
     "metadata": {},
     "output_type": "execute_result"
    }
   ],
   "source": [
    "df = pd.read_csv('kmeanResult_0.1.csv')\n",
    "df.head()"
   ]
  },
  {
   "cell_type": "code",
   "execution_count": 19,
   "id": "cfd28001",
   "metadata": {},
   "outputs": [
    {
     "data": {
      "text/plain": [
       "Index(['id', 'fid', 'left', 'top', 'right', 'bottom', 'light_origin', 'aca200',\n",
       "       'aca400', 'ele200', 'ele400', 'kin200', 'kin400', 'd200', 'd400',\n",
       "       'bus200', 'bus400', 'bus', 'dead', 'aca', 'kin', 'ele', 'total',\n",
       "       'num_10', 'num_total', 'num_10_percent', 'num_total_percent',\n",
       "       'cluster_0.1'],\n",
       "      dtype='object')"
      ]
     },
     "execution_count": 19,
     "metadata": {},
     "output_type": "execute_result"
    }
   ],
   "source": [
    "df.columns"
   ]
  },
  {
   "cell_type": "code",
   "execution_count": 14,
   "id": "6ddd9c85",
   "metadata": {},
   "outputs": [
    {
     "data": {
      "text/plain": [
       "cluster_0.1\n",
       "1    27\n",
       "2    14\n",
       "3    26\n",
       "Name: id, dtype: int64"
      ]
     },
     "execution_count": 14,
     "metadata": {},
     "output_type": "execute_result"
    }
   ],
   "source": [
    "#각 클러스터 개수\n",
    "df.groupby('cluster_0.1')['id'].count()"
   ]
  },
  {
   "cell_type": "code",
   "execution_count": null,
   "id": "e1c4fbe0",
   "metadata": {},
   "outputs": [],
   "source": [
    "#해석에 필요없는 변수 제거\n",
    "none_col= ['fid','left','top', 'right', 'bottom', 'light_origin', 'aca200',\n",
    "       'aca400', 'ele200', 'ele400', 'kin200', 'kin400', 'd200', 'd400',\n",
    "       'bus200', 'bus400','num_10', 'num_total']\n",
    "df2 = df.drop(none_col, axis = 'columns')\n",
    "df2.shape"
   ]
  },
  {
   "cell_type": "code",
   "execution_count": 3,
   "id": "de3b569b",
   "metadata": {},
   "outputs": [
    {
     "data": {
      "text/plain": [
       "cluster_0.1\n",
       "1    0.991281\n",
       "2    0.986000\n",
       "3    0.993100\n",
       "Name: total, dtype: float64"
      ]
     },
     "execution_count": 3,
     "metadata": {},
     "output_type": "execute_result"
    }
   ],
   "source": [
    "#클러스터별 점수분포\n",
    "df.groupby('cluster_0.1')['total'].mean()"
   ]
  },
  {
   "cell_type": "code",
   "execution_count": 4,
   "id": "56c34ed0",
   "metadata": {},
   "outputs": [
    {
     "data": {
      "text/plain": [
       "cluster_0.1\n",
       "1    0.958519\n",
       "2    0.935714\n",
       "3    0.981923\n",
       "Name: num_10_percent, dtype: float64"
      ]
     },
     "execution_count": 4,
     "metadata": {},
     "output_type": "execute_result"
    }
   ],
   "source": [
    "#클러스터별 10대 인구 분포\n",
    "df.groupby('cluster_0.1')['num_10_percent'].mean()"
   ]
  },
  {
   "cell_type": "code",
   "execution_count": 5,
   "id": "6e41085f",
   "metadata": {},
   "outputs": [
    {
     "data": {
      "text/plain": [
       "cluster_0.1\n",
       "1    0.962593\n",
       "2    0.937143\n",
       "3    0.952692\n",
       "Name: num_total_percent, dtype: float64"
      ]
     },
     "execution_count": 5,
     "metadata": {},
     "output_type": "execute_result"
    }
   ],
   "source": [
    "#총 인구 분포\n",
    "df.groupby('cluster_0.1')['num_total_percent'].mean()"
   ]
  },
  {
   "cell_type": "code",
   "execution_count": 6,
   "id": "6b5ea11a",
   "metadata": {},
   "outputs": [
    {
     "data": {
      "text/plain": [
       "cluster_0.1\n",
       "1    1\n",
       "2    1\n",
       "3    1\n",
       "Name: dead, dtype: int64"
      ]
     },
     "execution_count": 6,
     "metadata": {},
     "output_type": "execute_result"
    }
   ],
   "source": [
    "#사망사고\n",
    "df.groupby('cluster_0.1')['dead'].mean()"
   ]
  },
  {
   "cell_type": "code",
   "execution_count": 7,
   "id": "b68465d2",
   "metadata": {},
   "outputs": [
    {
     "data": {
      "text/plain": [
       "cluster_0.1\n",
       "1    1\n",
       "2    1\n",
       "3    1\n",
       "Name: ele, dtype: int64"
      ]
     },
     "execution_count": 7,
     "metadata": {},
     "output_type": "execute_result"
    }
   ],
   "source": [
    "#학교\n",
    "df.groupby('cluster_0.1')['ele'].mean()"
   ]
  },
  {
   "cell_type": "code",
   "execution_count": 8,
   "id": "30bd2cd3",
   "metadata": {},
   "outputs": [
    {
     "data": {
      "text/plain": [
       "cluster_0.1\n",
       "1    1\n",
       "2    1\n",
       "3    1\n",
       "Name: aca, dtype: int64"
      ]
     },
     "execution_count": 8,
     "metadata": {},
     "output_type": "execute_result"
    }
   ],
   "source": [
    "#학교\n",
    "df.groupby('cluster_0.1')['aca'].mean()"
   ]
  },
  {
   "cell_type": "code",
   "execution_count": 9,
   "id": "d24b1d93",
   "metadata": {},
   "outputs": [
    {
     "data": {
      "text/plain": [
       "cluster_0.1\n",
       "1    1\n",
       "2    1\n",
       "3    1\n",
       "Name: bus, dtype: int64"
      ]
     },
     "execution_count": 9,
     "metadata": {},
     "output_type": "execute_result"
    }
   ],
   "source": [
    "#버스\n",
    "df.groupby('cluster_0.1')['bus'].mean()"
   ]
  },
  {
   "cell_type": "code",
   "execution_count": 10,
   "id": "131d9daa",
   "metadata": {},
   "outputs": [
    {
     "data": {
      "text/plain": [
       "cluster_0.1\n",
       "1    1\n",
       "2    1\n",
       "3    1\n",
       "Name: kin, dtype: int64"
      ]
     },
     "execution_count": 10,
     "metadata": {},
     "output_type": "execute_result"
    }
   ],
   "source": [
    "#버스\n",
    "df.groupby('cluster_0.1')['kin'].mean()"
   ]
  },
  {
   "cell_type": "markdown",
   "id": "b6dba77a",
   "metadata": {},
   "source": [
    "### 상위 15% 신호등 cluster\n",
    "- cluster 3개로 분류되어 있음"
   ]
  },
  {
   "cell_type": "code",
   "execution_count": 11,
   "id": "38fe7a59",
   "metadata": {},
   "outputs": [
    {
     "data": {
      "text/html": [
       "<div>\n",
       "<style scoped>\n",
       "    .dataframe tbody tr th:only-of-type {\n",
       "        vertical-align: middle;\n",
       "    }\n",
       "\n",
       "    .dataframe tbody tr th {\n",
       "        vertical-align: top;\n",
       "    }\n",
       "\n",
       "    .dataframe thead th {\n",
       "        text-align: right;\n",
       "    }\n",
       "</style>\n",
       "<table border=\"1\" class=\"dataframe\">\n",
       "  <thead>\n",
       "    <tr style=\"text-align: right;\">\n",
       "      <th></th>\n",
       "      <th>id</th>\n",
       "      <th>fid</th>\n",
       "      <th>left</th>\n",
       "      <th>top</th>\n",
       "      <th>right</th>\n",
       "      <th>bottom</th>\n",
       "      <th>light_origin</th>\n",
       "      <th>aca200</th>\n",
       "      <th>aca400</th>\n",
       "      <th>ele200</th>\n",
       "      <th>...</th>\n",
       "      <th>dead</th>\n",
       "      <th>aca</th>\n",
       "      <th>kin</th>\n",
       "      <th>ele</th>\n",
       "      <th>total</th>\n",
       "      <th>num_10</th>\n",
       "      <th>num_total</th>\n",
       "      <th>num_10_percent</th>\n",
       "      <th>num_total_percent</th>\n",
       "      <th>cluster_0.15</th>\n",
       "    </tr>\n",
       "  </thead>\n",
       "  <tbody>\n",
       "    <tr>\n",
       "      <th>0</th>\n",
       "      <td>8264</td>\n",
       "      <td>6259</td>\n",
       "      <td>341928.5552</td>\n",
       "      <td>190729.2726</td>\n",
       "      <td>342228.5552</td>\n",
       "      <td>190429.2726</td>\n",
       "      <td>1</td>\n",
       "      <td>2</td>\n",
       "      <td>1</td>\n",
       "      <td>2</td>\n",
       "      <td>...</td>\n",
       "      <td>1</td>\n",
       "      <td>1</td>\n",
       "      <td>1</td>\n",
       "      <td>1</td>\n",
       "      <td>0.9762</td>\n",
       "      <td>30</td>\n",
       "      <td>201</td>\n",
       "      <td>0.91</td>\n",
       "      <td>0.87</td>\n",
       "      <td>3</td>\n",
       "    </tr>\n",
       "    <tr>\n",
       "      <th>1</th>\n",
       "      <td>8275</td>\n",
       "      <td>6284</td>\n",
       "      <td>341928.5552</td>\n",
       "      <td>187429.2726</td>\n",
       "      <td>342228.5552</td>\n",
       "      <td>187129.2726</td>\n",
       "      <td>1</td>\n",
       "      <td>2</td>\n",
       "      <td>1</td>\n",
       "      <td>2</td>\n",
       "      <td>...</td>\n",
       "      <td>1</td>\n",
       "      <td>1</td>\n",
       "      <td>1</td>\n",
       "      <td>1</td>\n",
       "      <td>0.9958</td>\n",
       "      <td>79</td>\n",
       "      <td>650</td>\n",
       "      <td>0.99</td>\n",
       "      <td>0.97</td>\n",
       "      <td>3</td>\n",
       "    </tr>\n",
       "    <tr>\n",
       "      <th>2</th>\n",
       "      <td>8385</td>\n",
       "      <td>6351</td>\n",
       "      <td>342228.5552</td>\n",
       "      <td>192829.2726</td>\n",
       "      <td>342528.5552</td>\n",
       "      <td>192529.2726</td>\n",
       "      <td>1</td>\n",
       "      <td>2</td>\n",
       "      <td>1</td>\n",
       "      <td>2</td>\n",
       "      <td>...</td>\n",
       "      <td>1</td>\n",
       "      <td>1</td>\n",
       "      <td>1</td>\n",
       "      <td>1</td>\n",
       "      <td>0.9616</td>\n",
       "      <td>12</td>\n",
       "      <td>133</td>\n",
       "      <td>0.83</td>\n",
       "      <td>0.82</td>\n",
       "      <td>3</td>\n",
       "    </tr>\n",
       "    <tr>\n",
       "      <th>3</th>\n",
       "      <td>8387</td>\n",
       "      <td>6353</td>\n",
       "      <td>342228.5552</td>\n",
       "      <td>192229.2726</td>\n",
       "      <td>342528.5552</td>\n",
       "      <td>191929.2726</td>\n",
       "      <td>1</td>\n",
       "      <td>2</td>\n",
       "      <td>1</td>\n",
       "      <td>2</td>\n",
       "      <td>...</td>\n",
       "      <td>1</td>\n",
       "      <td>1</td>\n",
       "      <td>1</td>\n",
       "      <td>1</td>\n",
       "      <td>0.9706</td>\n",
       "      <td>12</td>\n",
       "      <td>292</td>\n",
       "      <td>0.83</td>\n",
       "      <td>0.91</td>\n",
       "      <td>3</td>\n",
       "    </tr>\n",
       "    <tr>\n",
       "      <th>4</th>\n",
       "      <td>8389</td>\n",
       "      <td>6347</td>\n",
       "      <td>342228.5552</td>\n",
       "      <td>191629.2726</td>\n",
       "      <td>342528.5552</td>\n",
       "      <td>191329.2726</td>\n",
       "      <td>1</td>\n",
       "      <td>2</td>\n",
       "      <td>1</td>\n",
       "      <td>2</td>\n",
       "      <td>...</td>\n",
       "      <td>1</td>\n",
       "      <td>1</td>\n",
       "      <td>1</td>\n",
       "      <td>1</td>\n",
       "      <td>0.9924</td>\n",
       "      <td>55</td>\n",
       "      <td>457</td>\n",
       "      <td>0.97</td>\n",
       "      <td>0.96</td>\n",
       "      <td>3</td>\n",
       "    </tr>\n",
       "  </tbody>\n",
       "</table>\n",
       "<p>5 rows × 28 columns</p>\n",
       "</div>"
      ],
      "text/plain": [
       "     id   fid         left          top        right       bottom  \\\n",
       "0  8264  6259  341928.5552  190729.2726  342228.5552  190429.2726   \n",
       "1  8275  6284  341928.5552  187429.2726  342228.5552  187129.2726   \n",
       "2  8385  6351  342228.5552  192829.2726  342528.5552  192529.2726   \n",
       "3  8387  6353  342228.5552  192229.2726  342528.5552  191929.2726   \n",
       "4  8389  6347  342228.5552  191629.2726  342528.5552  191329.2726   \n",
       "\n",
       "   light_origin  aca200  aca400  ele200  ...  dead  aca  kin  ele   total  \\\n",
       "0             1       2       1       2  ...     1    1    1    1  0.9762   \n",
       "1             1       2       1       2  ...     1    1    1    1  0.9958   \n",
       "2             1       2       1       2  ...     1    1    1    1  0.9616   \n",
       "3             1       2       1       2  ...     1    1    1    1  0.9706   \n",
       "4             1       2       1       2  ...     1    1    1    1  0.9924   \n",
       "\n",
       "   num_10  num_total  num_10_percent  num_total_percent  cluster_0.15  \n",
       "0      30        201            0.91               0.87             3  \n",
       "1      79        650            0.99               0.97             3  \n",
       "2      12        133            0.83               0.82             3  \n",
       "3      12        292            0.83               0.91             3  \n",
       "4      55        457            0.97               0.96             3  \n",
       "\n",
       "[5 rows x 28 columns]"
      ]
     },
     "execution_count": 11,
     "metadata": {},
     "output_type": "execute_result"
    }
   ],
   "source": [
    "df2 = pd.read_csv('kmeanResult_0.15.csv')\n",
    "df2.head()"
   ]
  },
  {
   "cell_type": "code",
   "execution_count": 16,
   "id": "3bf10a63",
   "metadata": {},
   "outputs": [
    {
     "data": {
      "text/plain": [
       "cluster_0.15\n",
       "1    49\n",
       "2    16\n",
       "3    34\n",
       "Name: id, dtype: int64"
      ]
     },
     "execution_count": 16,
     "metadata": {},
     "output_type": "execute_result"
    }
   ],
   "source": [
    "#각 클러스터 개수\n",
    "df2.groupby('cluster_0.15')['id'].count()"
   ]
  },
  {
   "cell_type": "code",
   "execution_count": 17,
   "id": "3c195dfb",
   "metadata": {},
   "outputs": [
    {
     "data": {
      "text/plain": [
       "cluster_0.15\n",
       "1    0.985653\n",
       "2    0.985400\n",
       "3    0.987282\n",
       "Name: total, dtype: float64"
      ]
     },
     "execution_count": 17,
     "metadata": {},
     "output_type": "execute_result"
    }
   ],
   "source": [
    "#클러스터별 점수분포\n",
    "df2.groupby('cluster_0.15')['total'].mean()"
   ]
  },
  {
   "cell_type": "code",
   "execution_count": 18,
   "id": "fa349f31",
   "metadata": {},
   "outputs": [
    {
     "data": {
      "text/html": [
       "<div>\n",
       "<style scoped>\n",
       "    .dataframe tbody tr th:only-of-type {\n",
       "        vertical-align: middle;\n",
       "    }\n",
       "\n",
       "    .dataframe tbody tr th {\n",
       "        vertical-align: top;\n",
       "    }\n",
       "\n",
       "    .dataframe thead th {\n",
       "        text-align: right;\n",
       "    }\n",
       "</style>\n",
       "<table border=\"1\" class=\"dataframe\">\n",
       "  <thead>\n",
       "    <tr style=\"text-align: right;\">\n",
       "      <th></th>\n",
       "      <th>id</th>\n",
       "      <th>fid</th>\n",
       "      <th>left</th>\n",
       "      <th>top</th>\n",
       "      <th>right</th>\n",
       "      <th>bottom</th>\n",
       "      <th>light_origin</th>\n",
       "      <th>aca200</th>\n",
       "      <th>aca400</th>\n",
       "      <th>ele200</th>\n",
       "      <th>...</th>\n",
       "      <th>bus</th>\n",
       "      <th>dead</th>\n",
       "      <th>aca</th>\n",
       "      <th>kin</th>\n",
       "      <th>ele</th>\n",
       "      <th>total</th>\n",
       "      <th>num_10</th>\n",
       "      <th>num_total</th>\n",
       "      <th>num_10_percent</th>\n",
       "      <th>num_total_percent</th>\n",
       "    </tr>\n",
       "    <tr>\n",
       "      <th>cluster_0.1</th>\n",
       "      <th></th>\n",
       "      <th></th>\n",
       "      <th></th>\n",
       "      <th></th>\n",
       "      <th></th>\n",
       "      <th></th>\n",
       "      <th></th>\n",
       "      <th></th>\n",
       "      <th></th>\n",
       "      <th></th>\n",
       "      <th></th>\n",
       "      <th></th>\n",
       "      <th></th>\n",
       "      <th></th>\n",
       "      <th></th>\n",
       "      <th></th>\n",
       "      <th></th>\n",
       "      <th></th>\n",
       "      <th></th>\n",
       "      <th></th>\n",
       "      <th></th>\n",
       "    </tr>\n",
       "  </thead>\n",
       "  <tbody>\n",
       "    <tr>\n",
       "      <th>1</th>\n",
       "      <td>8781.000000</td>\n",
       "      <td>6671.740741</td>\n",
       "      <td>343150.777422</td>\n",
       "      <td>192073.717044</td>\n",
       "      <td>343450.777422</td>\n",
       "      <td>191773.717044</td>\n",
       "      <td>1.0</td>\n",
       "      <td>2.0</td>\n",
       "      <td>1.0</td>\n",
       "      <td>2.0</td>\n",
       "      <td>...</td>\n",
       "      <td>1.0</td>\n",
       "      <td>1.0</td>\n",
       "      <td>1.0</td>\n",
       "      <td>1.0</td>\n",
       "      <td>1.0</td>\n",
       "      <td>0.991281</td>\n",
       "      <td>55.074074</td>\n",
       "      <td>617.370370</td>\n",
       "      <td>0.958519</td>\n",
       "      <td>0.962593</td>\n",
       "    </tr>\n",
       "    <tr>\n",
       "      <th>2</th>\n",
       "      <td>10876.000000</td>\n",
       "      <td>8487.357143</td>\n",
       "      <td>348099.983771</td>\n",
       "      <td>197072.129743</td>\n",
       "      <td>348399.983771</td>\n",
       "      <td>196772.129743</td>\n",
       "      <td>1.0</td>\n",
       "      <td>2.0</td>\n",
       "      <td>1.0</td>\n",
       "      <td>2.0</td>\n",
       "      <td>...</td>\n",
       "      <td>1.0</td>\n",
       "      <td>1.0</td>\n",
       "      <td>1.0</td>\n",
       "      <td>1.0</td>\n",
       "      <td>1.0</td>\n",
       "      <td>0.986000</td>\n",
       "      <td>42.071429</td>\n",
       "      <td>395.571429</td>\n",
       "      <td>0.935714</td>\n",
       "      <td>0.937143</td>\n",
       "    </tr>\n",
       "    <tr>\n",
       "      <th>3</th>\n",
       "      <td>13348.423077</td>\n",
       "      <td>1082.269231</td>\n",
       "      <td>353847.785969</td>\n",
       "      <td>191063.887985</td>\n",
       "      <td>354147.785969</td>\n",
       "      <td>190763.887985</td>\n",
       "      <td>1.0</td>\n",
       "      <td>2.0</td>\n",
       "      <td>1.0</td>\n",
       "      <td>2.0</td>\n",
       "      <td>...</td>\n",
       "      <td>1.0</td>\n",
       "      <td>1.0</td>\n",
       "      <td>1.0</td>\n",
       "      <td>1.0</td>\n",
       "      <td>1.0</td>\n",
       "      <td>0.993100</td>\n",
       "      <td>88.461538</td>\n",
       "      <td>715.192308</td>\n",
       "      <td>0.981923</td>\n",
       "      <td>0.952692</td>\n",
       "    </tr>\n",
       "  </tbody>\n",
       "</table>\n",
       "<p>3 rows × 27 columns</p>\n",
       "</div>"
      ],
      "text/plain": [
       "                       id          fid           left            top  \\\n",
       "cluster_0.1                                                            \n",
       "1             8781.000000  6671.740741  343150.777422  192073.717044   \n",
       "2            10876.000000  8487.357143  348099.983771  197072.129743   \n",
       "3            13348.423077  1082.269231  353847.785969  191063.887985   \n",
       "\n",
       "                     right         bottom  light_origin  aca200  aca400  \\\n",
       "cluster_0.1                                                               \n",
       "1            343450.777422  191773.717044           1.0     2.0     1.0   \n",
       "2            348399.983771  196772.129743           1.0     2.0     1.0   \n",
       "3            354147.785969  190763.887985           1.0     2.0     1.0   \n",
       "\n",
       "             ele200  ...  bus  dead  aca  kin  ele     total     num_10  \\\n",
       "cluster_0.1          ...                                                  \n",
       "1               2.0  ...  1.0   1.0  1.0  1.0  1.0  0.991281  55.074074   \n",
       "2               2.0  ...  1.0   1.0  1.0  1.0  1.0  0.986000  42.071429   \n",
       "3               2.0  ...  1.0   1.0  1.0  1.0  1.0  0.993100  88.461538   \n",
       "\n",
       "              num_total  num_10_percent  num_total_percent  \n",
       "cluster_0.1                                                 \n",
       "1            617.370370        0.958519           0.962593  \n",
       "2            395.571429        0.935714           0.937143  \n",
       "3            715.192308        0.981923           0.952692  \n",
       "\n",
       "[3 rows x 27 columns]"
      ]
     },
     "execution_count": 18,
     "metadata": {},
     "output_type": "execute_result"
    }
   ],
   "source": [
    "#클러스터별 10대 인구 분포\n",
    "df.groupby('cluster_0.1').mean()"
   ]
  },
  {
   "cell_type": "code",
   "execution_count": null,
   "id": "c79a45d6",
   "metadata": {},
   "outputs": [],
   "source": []
  }
 ],
 "metadata": {
  "kernelspec": {
   "display_name": "Python 3",
   "language": "python",
   "name": "python3"
  },
  "language_info": {
   "codemirror_mode": {
    "name": "ipython",
    "version": 3
   },
   "file_extension": ".py",
   "mimetype": "text/x-python",
   "name": "python",
   "nbconvert_exporter": "python",
   "pygments_lexer": "ipython3",
   "version": "3.8.8"
  }
 },
 "nbformat": 4,
 "nbformat_minor": 5
}
