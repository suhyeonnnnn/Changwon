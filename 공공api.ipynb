{
 "cells": [
  {
   "cell_type": "markdown",
   "id": "52460542",
   "metadata": {},
   "source": [
    "# 코로나 지역별 확진자 동향 데이터"
   ]
  },
  {
   "cell_type": "code",
   "execution_count": 59,
   "id": "adfbb0fd",
   "metadata": {},
   "outputs": [],
   "source": [
    "import requests"
   ]
  },
  {
   "cell_type": "code",
   "execution_count": 60,
   "id": "15427021",
   "metadata": {},
   "outputs": [],
   "source": [
    "key = \"gVoUZv%2B5HLulgJ75qW5O8E9ZKHhTWh%2Fu5qGGqUJLUxwE%2BGqN0EXLMCm9xj7XAr%2BEnnZBuBLaILFYKovDHyFCPA%3D%3D\"\n",
    "url = 'http://openapi.data.go.kr/openapi/service/rest/Covid19/getCovid19SidoInfStateJson?serviceKey={} &pageNo=1&numOfRows=10&startCreateDt=20200410&endCreateDt=20200410'.format(key)"
   ]
  },
  {
   "cell_type": "code",
   "execution_count": 61,
   "id": "de3a0783",
   "metadata": {},
   "outputs": [
    {
     "name": "stdout",
     "output_type": "stream",
     "text": [
      "b'<?xml version=\"1.0\" encoding=\"UTF-8\" standalone=\"yes\"?><response><header><resultCode>99</resultCode><resultMsg>SERVICE KEY IS NOT REGISTERED ERROR.</resultMsg></header></response>'\n"
     ]
    }
   ],
   "source": [
    "content = requests.get(url).content\n",
    "print(content)"
   ]
  },
  {
   "cell_type": "code",
   "execution_count": null,
   "id": "e7f88aa1",
   "metadata": {},
   "outputs": [],
   "source": []
  },
  {
   "cell_type": "code",
   "execution_count": null,
   "id": "7b84dc03",
   "metadata": {},
   "outputs": [],
   "source": [
    "z"
   ]
  }
 ],
 "metadata": {
  "kernelspec": {
   "display_name": "Python 3",
   "language": "python",
   "name": "python3"
  },
  "language_info": {
   "codemirror_mode": {
    "name": "ipython",
    "version": 3
   },
   "file_extension": ".py",
   "mimetype": "text/x-python",
   "name": "python",
   "nbconvert_exporter": "python",
   "pygments_lexer": "ipython3",
   "version": "3.8.8"
  }
 },
 "nbformat": 4,
 "nbformat_minor": 5
}
