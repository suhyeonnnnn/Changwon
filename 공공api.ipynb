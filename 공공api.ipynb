{
 "cells": [
  {
   "cell_type": "markdown",
   "id": "59f56798",
   "metadata": {},
   "source": [
    "# 코로나 지역별 확진자 동향 데이터"
   ]
  },
  {
   "cell_type": "code",
   "execution_count": 106,
   "id": "adfbb0fd",
   "metadata": {},
   "outputs": [],
   "source": [
    "import requests, xmltodict, json\n",
    "import pandas as pd"
   ]
  },
  {
   "cell_type": "code",
   "execution_count": 114,
   "id": "15427021",
   "metadata": {},
   "outputs": [],
   "source": [
    "key = \"gVoUZv%2B5HLulgJ75qW5O8E9ZKHhTWh%2Fu5qGGqUJLUxwE%2BGqN0EXLMCm9xj7XAr%2BEnnZBuBLaILFYKovDHyFCPA%3D%3D\"\n",
    "url = 'http://openapi.data.go.kr/openapi/service/rest/Covid19/getCovid19SidoInfStateJson?serviceKey={}&pageNo=1&numOfRows=700&'.format(key)"
   ]
  },
  {
   "cell_type": "code",
   "execution_count": 115,
   "id": "5fbae031",
   "metadata": {},
   "outputs": [],
   "source": [
    "content = requests.get(url).content"
   ]
  },
  {
   "cell_type": "code",
   "execution_count": 116,
   "id": "18d7da4f",
   "metadata": {},
   "outputs": [
    {
     "name": "stdout",
     "output_type": "stream",
     "text": [
      "{'createDt': '2021-09-26 09:43:44.896', 'deathCnt': '14', 'defCnt': '6059', 'gubun': '검역', 'gubunCn': '隔離區', 'gubunEn': 'Lazaretto', 'incDec': '10', 'isolClearCnt': '5844', 'isolIngCnt': '201', 'localOccCnt': '0', 'overFlowCnt': '10', 'qurRate': '-', 'seq': '12340', 'stdDay': '2021년 09월 26일 00시', 'updateDt': 'null'}\n",
      "{'createDt': '2021-09-26 09:43:44.896', 'deathCnt': '2', 'defCnt': '2839', 'gubun': '제주', 'gubunCn': '济州', 'gubunEn': 'Jeju', 'incDec': '7', 'isolClearCnt': '2745', 'isolIngCnt': '92', 'localOccCnt': '6', 'overFlowCnt': '1', 'qurRate': '420.82', 'seq': '12339', 'stdDay': '2021년 09월 26일 00시', 'updateDt': 'null'}\n",
      "{'createDt': '2021-09-26 09:43:44.896', 'deathCnt': '36', 'defCnt': '11141', 'gubun': '경남', 'gubunCn': '庆南', 'gubunEn': 'Gyeongsangnam-do', 'incDec': '73', 'isolClearCnt': '10694', 'isolIngCnt': '411', 'localOccCnt': '72', 'overFlowCnt': '1', 'qurRate': '333.54', 'seq': '12338', 'stdDay': '2021년 09월 26일 00시', 'updateDt': 'null'}\n",
      "{'createDt': '2021-09-26 09:43:44.896', 'deathCnt': '91', 'defCnt': '8037', 'gubun': '경북', 'gubunCn': '庆北', 'gubunEn': 'Gyeongsangbuk-do', 'incDec': '85', 'isolClearCnt': '7500', 'isolIngCnt': '446', 'localOccCnt': '85', 'overFlowCnt': '0', 'qurRate': '304.50', 'seq': '12337', 'stdDay': '2021년 09월 26일 00시', 'updateDt': 'null'}\n",
      "{'createDt': '2021-09-26 09:43:44.895', 'deathCnt': '21', 'defCnt': '3003', 'gubun': '전남', 'gubunCn': '全南', 'gubunEn': 'Jeollanam-do', 'incDec': '25', 'isolClearCnt': '2801', 'isolIngCnt': '181', 'localOccCnt': '25', 'overFlowCnt': '0', 'qurRate': '162.19', 'seq': '12336', 'stdDay': '2021년 09월 26일 00시', 'updateDt': 'null'}\n",
      "{'createDt': '2021-09-26 09:43:44.895', 'deathCnt': '61', 'defCnt': '4355', 'gubun': '전북', 'gubunCn': '全北', 'gubunEn': 'Jeollabuk-do', 'incDec': '48', 'isolClearCnt': '3837', 'isolIngCnt': '457', 'localOccCnt': '47', 'overFlowCnt': '1', 'qurRate': '241.39', 'seq': '12335', 'stdDay': '2021년 09월 26일 00시', 'updateDt': 'null'}\n",
      "{'createDt': '2021-09-26 09:43:44.895', 'deathCnt': '56', 'defCnt': '8870', 'gubun': '충남', 'gubunCn': '忠南', 'gubunEn': 'Chungcheongnam-do', 'incDec': '75', 'isolClearCnt': '7862', 'isolIngCnt': '952', 'localOccCnt': '74', 'overFlowCnt': '1', 'qurRate': '418.19', 'seq': '12334', 'stdDay': '2021년 09월 26일 00시', 'updateDt': 'null'}\n",
      "{'createDt': '2021-09-26 09:43:44.895', 'deathCnt': '75', 'defCnt': '6077', 'gubun': '충북', 'gubunCn': '忠北', 'gubunEn': 'Chungcheongbuk-do', 'incDec': '51', 'isolClearCnt': '5558', 'isolIngCnt': '444', 'localOccCnt': '49', 'overFlowCnt': '2', 'qurRate': '379.61', 'seq': '12333', 'stdDay': '2021년 09월 26일 00시', 'updateDt': 'null'}\n",
      "{'createDt': '2021-09-26 09:43:44.895', 'deathCnt': '62', 'defCnt': '6319', 'gubun': '강원', 'gubunCn': '江原', 'gubunEn': 'Gangwon-do', 'incDec': '47', 'isolClearCnt': '5787', 'isolIngCnt': '470', 'localOccCnt': '47', 'overFlowCnt': '0', 'qurRate': '409.57', 'seq': '12332', 'stdDay': '2021년 09월 26일 00시', 'updateDt': 'null'}\n",
      "{'createDt': '2021-09-26 09:43:44.895', 'deathCnt': '794', 'defCnt': '86779', 'gubun': '경기', 'gubunCn': '京畿', 'gubunEn': 'Gyeonggi-do', 'incDec': '931', 'isolClearCnt': '76266', 'isolIngCnt': '9719', 'localOccCnt': '922', 'overFlowCnt': '9', 'qurRate': '646.30', 'seq': '12331', 'stdDay': '2021년 09월 26일 00시', 'updateDt': 'null'}\n",
      "{'createDt': '2021-09-26 09:43:44.895', 'deathCnt': '1', 'defCnt': '1197', 'gubun': '세종', 'gubunCn': '世宗', 'gubunEn': 'Sejong', 'incDec': '8', 'isolClearCnt': '1111', 'isolIngCnt': '85', 'localOccCnt': '8', 'overFlowCnt': '0', 'qurRate': '336.40', 'seq': '12330', 'stdDay': '2021년 09월 26일 00시', 'updateDt': 'null'}\n",
      "{'createDt': '2021-09-26 09:43:44.894', 'deathCnt': '49', 'defCnt': '5074', 'gubun': '울산', 'gubunCn': '蔚山', 'gubunEn': 'Ulsan', 'incDec': '27', 'isolClearCnt': '4788', 'isolIngCnt': '237', 'localOccCnt': '27', 'overFlowCnt': '0', 'qurRate': '446.65', 'seq': '12329', 'stdDay': '2021년 09월 26일 00시', 'updateDt': 'null'}\n",
      "{'createDt': '2021-09-26 09:43:44.894', 'deathCnt': '44', 'defCnt': '6815', 'gubun': '대전', 'gubunCn': '大田', 'gubunEn': 'Daejeon', 'incDec': '53', 'isolClearCnt': '6167', 'isolIngCnt': '604', 'localOccCnt': '53', 'overFlowCnt': '0', 'qurRate': '465.54', 'seq': '12328', 'stdDay': '2021년 09월 26일 00시', 'updateDt': 'null'}\n",
      "{'createDt': '2021-09-26 09:43:44.894', 'deathCnt': '29', 'defCnt': '4873', 'gubun': '광주', 'gubunCn': '光州', 'gubunEn': 'Gwangju', 'incDec': '40', 'isolClearCnt': '4506', 'isolIngCnt': '338', 'localOccCnt': '39', 'overFlowCnt': '1', 'qurRate': '336.05', 'seq': '12327', 'stdDay': '2021년 09월 26일 00시', 'updateDt': 'null'}\n",
      "{'createDt': '2021-09-26 09:43:44.894', 'deathCnt': '86', 'defCnt': '15233', 'gubun': '인천', 'gubunCn': '仁川', 'gubunEn': 'Incheon', 'incDec': '174', 'isolClearCnt': '13089', 'isolIngCnt': '2058', 'localOccCnt': '169', 'overFlowCnt': '5', 'qurRate': '517.63', 'seq': '12326', 'stdDay': '2021년 09월 26일 00시', 'updateDt': 'null'}\n",
      "{'createDt': '2021-09-26 09:43:44.894', 'deathCnt': '242', 'defCnt': '15076', 'gubun': '대구', 'gubunCn': '大邱', 'gubunEn': 'Daegu', 'incDec': '143', 'isolClearCnt': '14038', 'isolIngCnt': '796', 'localOccCnt': '143', 'overFlowCnt': '0', 'qurRate': '623.40', 'seq': '12325', 'stdDay': '2021년 09월 26일 00시', 'updateDt': 'null'}\n",
      "{'createDt': '2021-09-26 09:43:44.894', 'deathCnt': '155', 'defCnt': '12548', 'gubun': '부산', 'gubunCn': '釜山', 'gubunEn': 'Busan', 'incDec': '46', 'isolClearCnt': '11866', 'isolIngCnt': '527', 'localOccCnt': '46', 'overFlowCnt': '0', 'qurRate': '369.94', 'seq': '12324', 'stdDay': '2021년 09월 26일 00시', 'updateDt': 'null'}\n",
      "{'createDt': '2021-09-26 09:43:44.893', 'deathCnt': '632', 'defCnt': '96877', 'gubun': '서울', 'gubunCn': '首尔', 'gubunEn': 'Seoul', 'incDec': '928', 'isolClearCnt': '83681', 'isolIngCnt': '12564', 'localOccCnt': '923', 'overFlowCnt': '5', 'qurRate': '1001.99', 'seq': '12323', 'stdDay': '2021년 09월 26일 00시', 'updateDt': 'null'}\n",
      "{'createDt': '2021-09-26 09:43:44.893', 'deathCnt': '2450', 'defCnt': '301172', 'gubun': '합계', 'gubunCn': '合计', 'gubunEn': 'Total', 'incDec': '2771', 'isolClearCnt': '268140', 'isolIngCnt': '30582', 'localOccCnt': '2735', 'overFlowCnt': '36', 'qurRate': '581.09', 'seq': '12322', 'stdDay': '2021년 09월 26일 00시', 'updateDt': 'null'}\n"
     ]
    }
   ],
   "source": [
    "dict = xmltodict.parse(content)\n",
    "jsonString = json.dumps(dict['response']['body'],ensure_ascii=False)\n",
    "jsonObj = json.loads(jsonString)\n",
    "\n",
    "for item in jsonObj['items']['item']:\n",
    "    print(item)"
   ]
  },
  {
   "cell_type": "code",
   "execution_count": 117,
   "id": "15b2ed24",
   "metadata": {
    "scrolled": true
   },
   "outputs": [
    {
     "name": "stdout",
     "output_type": "stream",
     "text": [
      "<bound method DataFrame.count of                    createDt deathCnt  defCnt gubun gubunCn            gubunEn  \\\n",
      "0   2021-09-26 09:43:44.896       14    6059    검역     隔離區          Lazaretto   \n",
      "1   2021-09-26 09:43:44.896        2    2839    제주      济州               Jeju   \n",
      "2   2021-09-26 09:43:44.896       36   11141    경남      庆南   Gyeongsangnam-do   \n",
      "3   2021-09-26 09:43:44.896       91    8037    경북      庆北   Gyeongsangbuk-do   \n",
      "4   2021-09-26 09:43:44.895       21    3003    전남      全南       Jeollanam-do   \n",
      "5   2021-09-26 09:43:44.895       61    4355    전북      全北       Jeollabuk-do   \n",
      "6   2021-09-26 09:43:44.895       56    8870    충남      忠南  Chungcheongnam-do   \n",
      "7   2021-09-26 09:43:44.895       75    6077    충북      忠北  Chungcheongbuk-do   \n",
      "8   2021-09-26 09:43:44.895       62    6319    강원      江原         Gangwon-do   \n",
      "9   2021-09-26 09:43:44.895      794   86779    경기      京畿        Gyeonggi-do   \n",
      "10  2021-09-26 09:43:44.895        1    1197    세종      世宗             Sejong   \n",
      "11  2021-09-26 09:43:44.894       49    5074    울산      蔚山              Ulsan   \n",
      "12  2021-09-26 09:43:44.894       44    6815    대전      大田            Daejeon   \n",
      "13  2021-09-26 09:43:44.894       29    4873    광주      光州            Gwangju   \n",
      "14  2021-09-26 09:43:44.894       86   15233    인천      仁川            Incheon   \n",
      "15  2021-09-26 09:43:44.894      242   15076    대구      大邱              Daegu   \n",
      "16  2021-09-26 09:43:44.894      155   12548    부산      釜山              Busan   \n",
      "17  2021-09-26 09:43:44.893      632   96877    서울      首尔              Seoul   \n",
      "18  2021-09-26 09:43:44.893     2450  301172    합계      合计              Total   \n",
      "\n",
      "   incDec isolClearCnt isolIngCnt localOccCnt overFlowCnt  qurRate    seq  \\\n",
      "0      10         5844        201           0          10        -  12340   \n",
      "1       7         2745         92           6           1   420.82  12339   \n",
      "2      73        10694        411          72           1   333.54  12338   \n",
      "3      85         7500        446          85           0   304.50  12337   \n",
      "4      25         2801        181          25           0   162.19  12336   \n",
      "5      48         3837        457          47           1   241.39  12335   \n",
      "6      75         7862        952          74           1   418.19  12334   \n",
      "7      51         5558        444          49           2   379.61  12333   \n",
      "8      47         5787        470          47           0   409.57  12332   \n",
      "9     931        76266       9719         922           9   646.30  12331   \n",
      "10      8         1111         85           8           0   336.40  12330   \n",
      "11     27         4788        237          27           0   446.65  12329   \n",
      "12     53         6167        604          53           0   465.54  12328   \n",
      "13     40         4506        338          39           1   336.05  12327   \n",
      "14    174        13089       2058         169           5   517.63  12326   \n",
      "15    143        14038        796         143           0   623.40  12325   \n",
      "16     46        11866        527          46           0   369.94  12324   \n",
      "17    928        83681      12564         923           5  1001.99  12323   \n",
      "18   2771       268140      30582        2735          36   581.09  12322   \n",
      "\n",
      "               stdDay updateDt  \n",
      "0   2021년 09월 26일 00시     null  \n",
      "1   2021년 09월 26일 00시     null  \n",
      "2   2021년 09월 26일 00시     null  \n",
      "3   2021년 09월 26일 00시     null  \n",
      "4   2021년 09월 26일 00시     null  \n",
      "5   2021년 09월 26일 00시     null  \n",
      "6   2021년 09월 26일 00시     null  \n",
      "7   2021년 09월 26일 00시     null  \n",
      "8   2021년 09월 26일 00시     null  \n",
      "9   2021년 09월 26일 00시     null  \n",
      "10  2021년 09월 26일 00시     null  \n",
      "11  2021년 09월 26일 00시     null  \n",
      "12  2021년 09월 26일 00시     null  \n",
      "13  2021년 09월 26일 00시     null  \n",
      "14  2021년 09월 26일 00시     null  \n",
      "15  2021년 09월 26일 00시     null  \n",
      "16  2021년 09월 26일 00시     null  \n",
      "17  2021년 09월 26일 00시     null  \n",
      "18  2021년 09월 26일 00시     null  >\n"
     ]
    }
   ],
   "source": [
    "df = pd.DataFrame(jsonObj['items']['item'])\n",
    "print(df.count)"
   ]
  },
  {
   "cell_type": "code",
   "execution_count": 109,
   "id": "9be39f24",
   "metadata": {},
   "outputs": [],
   "source": [
    "df.to_csv('covid.csv')"
   ]
  },
  {
   "cell_type": "code",
   "execution_count": null,
   "id": "ee9873a2",
   "metadata": {},
   "outputs": [],
   "source": []
  }
 ],
 "metadata": {
  "kernelspec": {
   "display_name": "Python 3",
   "language": "python",
   "name": "python3"
  },
  "language_info": {
   "codemirror_mode": {
    "name": "ipython",
    "version": 3
   },
   "file_extension": ".py",
   "mimetype": "text/x-python",
   "name": "python",
   "nbconvert_exporter": "python",
   "pygments_lexer": "ipython3",
   "version": "3.8.8"
  }
 },
 "nbformat": 4,
 "nbformat_minor": 5
}
