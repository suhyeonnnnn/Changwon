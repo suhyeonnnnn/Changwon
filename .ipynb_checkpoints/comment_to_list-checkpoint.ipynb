{
 "cells": [
  {
   "cell_type": "code",
   "execution_count": 4,
   "metadata": {},
   "outputs": [],
   "source": [
    "import numpy as np\n",
    "import pandas as pd"
   ]
  },
  {
   "cell_type": "code",
   "execution_count": 52,
   "metadata": {},
   "outputs": [
    {
     "data": {
      "text/html": [
       "<div>\n",
       "<style scoped>\n",
       "    .dataframe tbody tr th:only-of-type {\n",
       "        vertical-align: middle;\n",
       "    }\n",
       "\n",
       "    .dataframe tbody tr th {\n",
       "        vertical-align: top;\n",
       "    }\n",
       "\n",
       "    .dataframe thead th {\n",
       "        text-align: right;\n",
       "    }\n",
       "</style>\n",
       "<table border=\"1\" class=\"dataframe\">\n",
       "  <thead>\n",
       "    <tr style=\"text-align: right;\">\n",
       "      <th></th>\n",
       "      <th>Comment</th>\n",
       "    </tr>\n",
       "  </thead>\n",
       "  <tbody>\n",
       "    <tr>\n",
       "      <th>0</th>\n",
       "      <td>본편 보 치킨왕 광고 진짜최종 필수관람 날광고 받 광고 기다리</td>\n",
       "    </tr>\n",
       "    <tr>\n",
       "      <th>1</th>\n",
       "      <td>광고 존 웃기 전지현 연예인 이미지 각인 좋 듯 연예인 광고 보 번 시켜먹고 싶 없...</td>\n",
       "    </tr>\n",
       "    <tr>\n",
       "      <th>2</th>\n",
       "      <td>진짜 광고 끝 보 만들 예능 식 광고 라해야되나 광고 틀 깬거 맞는거같다 피디 진짜 인재</td>\n",
       "    </tr>\n",
       "    <tr>\n",
       "      <th>3</th>\n",
       "      <td>광희 잡 것 신 한수 광희 좋 수 없</td>\n",
       "    </tr>\n",
       "    <tr>\n",
       "      <th>4</th>\n",
       "      <td>전지현언니랑 광희 고민 진짜 광희 때문에 비비큐 먹 광희 저렇 광희 멋지 기깔나게 찍</td>\n",
       "    </tr>\n",
       "    <tr>\n",
       "      <th>...</th>\n",
       "      <td>...</td>\n",
       "    </tr>\n",
       "    <tr>\n",
       "      <th>89989</th>\n",
       "      <td>오그라들 유치 노래 부르 옜날노래를 반주 완전 송은이 나오 어울리 않 카리스마 있 ...</td>\n",
       "    </tr>\n",
       "    <tr>\n",
       "      <th>89990</th>\n",
       "      <td>광고 좋 노래 정말 조카 짜증 나 역겹 노래 부르는거여 그따위로빠 못부르냐 먹 거 ...</td>\n",
       "    </tr>\n",
       "    <tr>\n",
       "      <th>89991</th>\n",
       "      <td>페미 집합소 아주그냥</td>\n",
       "    </tr>\n",
       "    <tr>\n",
       "      <th>89992</th>\n",
       "      <td>허영만잔뜩든 광고같은대 홀서빙하면서 하고다니는건 대기업 워킹걸 광고어디에 어려움 극...</td>\n",
       "    </tr>\n",
       "    <tr>\n",
       "      <th>89993</th>\n",
       "      <td>주인공 노래못함 복장 안예쁘고 동창회 아줌마 과 김윤아 송은이 개뜬금 김윤아 발음 ...</td>\n",
       "    </tr>\n",
       "  </tbody>\n",
       "</table>\n",
       "<p>89994 rows × 1 columns</p>\n",
       "</div>"
      ],
      "text/plain": [
       "                                                 Comment\n",
       "0                     본편 보 치킨왕 광고 진짜최종 필수관람 날광고 받 광고 기다리\n",
       "1      광고 존 웃기 전지현 연예인 이미지 각인 좋 듯 연예인 광고 보 번 시켜먹고 싶 없...\n",
       "2      진짜 광고 끝 보 만들 예능 식 광고 라해야되나 광고 틀 깬거 맞는거같다 피디 진짜 인재\n",
       "3                                   광희 잡 것 신 한수 광희 좋 수 없\n",
       "4        전지현언니랑 광희 고민 진짜 광희 때문에 비비큐 먹 광희 저렇 광희 멋지 기깔나게 찍\n",
       "...                                                  ...\n",
       "89989  오그라들 유치 노래 부르 옜날노래를 반주 완전 송은이 나오 어울리 않 카리스마 있 ...\n",
       "89990  광고 좋 노래 정말 조카 짜증 나 역겹 노래 부르는거여 그따위로빠 못부르냐 먹 거 ...\n",
       "89991                                        페미 집합소 아주그냥\n",
       "89992  허영만잔뜩든 광고같은대 홀서빙하면서 하고다니는건 대기업 워킹걸 광고어디에 어려움 극...\n",
       "89993  주인공 노래못함 복장 안예쁘고 동창회 아줌마 과 김윤아 송은이 개뜬금 김윤아 발음 ...\n",
       "\n",
       "[89994 rows x 1 columns]"
      ]
     },
     "execution_count": 52,
     "metadata": {},
     "output_type": "execute_result"
    }
   ],
   "source": [
    "d = pd.read_csv(\"DataCleansed_i.csv\",encoding = 'cp949',index_col = None)\n",
    "d"
   ]
  },
  {
   "cell_type": "code",
   "execution_count": 74,
   "metadata": {},
   "outputs": [],
   "source": [
    "lst = d.values.tolist()\n",
    "words = [] \n",
    "for i in range(len(lst)):\n",
    "    a = lst[i][0].split(\" \")\n",
    "    a = list(filter(None, a))\n",
    "    words.extend(a)\n",
    "    "
   ]
  },
  {
   "cell_type": "code",
   "execution_count": null,
   "metadata": {},
   "outputs": [],
   "source": [
    "words"
   ]
  }
 ],
 "metadata": {
  "kernelspec": {
   "display_name": "Python 3",
   "language": "python",
   "name": "python3"
  },
  "language_info": {
   "codemirror_mode": {
    "name": "ipython",
    "version": 3
   },
   "file_extension": ".py",
   "mimetype": "text/x-python",
   "name": "python",
   "nbconvert_exporter": "python",
   "pygments_lexer": "ipython3",
   "version": "3.8.5"
  }
 },
 "nbformat": 4,
 "nbformat_minor": 4
}
